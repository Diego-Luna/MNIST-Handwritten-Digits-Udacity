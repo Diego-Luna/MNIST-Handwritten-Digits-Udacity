{
 "cells": [
  {
   "cell_type": "markdown",
   "metadata": {},
   "source": [
    "# Introduction\n",
    "\n",
    "In this project, you will build a neural network of your own design to evaluate the MNIST dataset.\n",
    "\n",
    "Some of the benchmark results on MNIST include can be found [on Yann LeCun's page](https://webcache.googleusercontent.com/search?q=cache:stAVPik6onEJ:yann.lecun.com/exdb/mnist) and include:\n",
    "\n",
    "88% [Lecun et al., 1998](https://hal.science/hal-03926082/document)\n",
    "\n",
    "95.3% [Lecun et al., 1998](https://hal.science/hal-03926082v1/document)\n",
    "\n",
    "99.65% [Ciresan et al., 2011](http://people.idsia.ch/~juergen/ijcai2011.pdf)\n",
    "\n",
    "\n",
    "MNIST is a great dataset for sanity checking your models, since the accuracy levels achieved by large convolutional neural networks and small linear models are both quite high. This makes it important to be familiar with the data.\n",
    "\n",
    "## Installation"
   ]
  },
  {
   "cell_type": "code",
   "execution_count": 53,
   "metadata": {},
   "outputs": [],
   "source": [
    "# Update the PATH to include the user installation directory. \n",
    "import os\n",
    "os.environ['PATH'] = f\"{os.environ['PATH']}:/root/.local/bin\"\n",
    "\n",
    "# Restart the Kernel before you move on to the next step."
   ]
  },
  {
   "cell_type": "markdown",
   "metadata": {},
   "source": [
    "#### Important: Restart the Kernel before you move on to the next step."
   ]
  },
  {
   "cell_type": "code",
   "execution_count": 54,
   "metadata": {},
   "outputs": [
    {
     "name": "stdout",
     "output_type": "stream",
     "text": [
      "Requirement already satisfied: opencv-python-headless==4.5.3.56 in /opt/anaconda3/envs/udacity-ai-proyecto-2/lib/python3.8/site-packages (from -r requirements.txt (line 1)) (4.5.3.56)\n",
      "Requirement already satisfied: matplotlib==3.4.3 in /opt/anaconda3/envs/udacity-ai-proyecto-2/lib/python3.8/site-packages (from -r requirements.txt (line 2)) (3.4.3)\n",
      "Requirement already satisfied: numpy==1.21.2 in /opt/anaconda3/envs/udacity-ai-proyecto-2/lib/python3.8/site-packages (from -r requirements.txt (line 3)) (1.21.2)\n",
      "Requirement already satisfied: pillow==7.0.0 in /opt/anaconda3/envs/udacity-ai-proyecto-2/lib/python3.8/site-packages (from -r requirements.txt (line 4)) (7.0.0)\n",
      "Requirement already satisfied: bokeh==2.1.1 in /opt/anaconda3/envs/udacity-ai-proyecto-2/lib/python3.8/site-packages (from -r requirements.txt (line 5)) (2.1.1)\n",
      "Requirement already satisfied: torch==1.11.0 in /opt/anaconda3/envs/udacity-ai-proyecto-2/lib/python3.8/site-packages (from -r requirements.txt (line 6)) (1.11.0)\n",
      "Requirement already satisfied: torchvision==0.12.0 in /opt/anaconda3/envs/udacity-ai-proyecto-2/lib/python3.8/site-packages (from -r requirements.txt (line 7)) (0.12.0)\n",
      "Requirement already satisfied: tqdm==4.63.0 in /opt/anaconda3/envs/udacity-ai-proyecto-2/lib/python3.8/site-packages (from -r requirements.txt (line 8)) (4.63.0)\n",
      "Requirement already satisfied: ipywidgets==7.7.0 in /opt/anaconda3/envs/udacity-ai-proyecto-2/lib/python3.8/site-packages (from -r requirements.txt (line 9)) (7.7.0)\n",
      "Requirement already satisfied: livelossplot==0.5.4 in /opt/anaconda3/envs/udacity-ai-proyecto-2/lib/python3.8/site-packages (from -r requirements.txt (line 10)) (0.5.4)\n",
      "Requirement already satisfied: pytest==7.1.1 in /opt/anaconda3/envs/udacity-ai-proyecto-2/lib/python3.8/site-packages (from -r requirements.txt (line 11)) (7.1.1)\n",
      "Requirement already satisfied: pandas==1.3.5 in /opt/anaconda3/envs/udacity-ai-proyecto-2/lib/python3.8/site-packages (from -r requirements.txt (line 12)) (1.3.5)\n",
      "Requirement already satisfied: seaborn==0.11.2 in /opt/anaconda3/envs/udacity-ai-proyecto-2/lib/python3.8/site-packages (from -r requirements.txt (line 13)) (0.11.2)\n",
      "Requirement already satisfied: jupyter==1.0.0 in /opt/anaconda3/envs/udacity-ai-proyecto-2/lib/python3.8/site-packages (from -r requirements.txt (line 14)) (1.0.0)\n",
      "Requirement already satisfied: ipykernel==4.10.0 in /opt/anaconda3/envs/udacity-ai-proyecto-2/lib/python3.8/site-packages (from -r requirements.txt (line 15)) (4.10.0)\n",
      "Requirement already satisfied: cycler>=0.10 in /opt/anaconda3/envs/udacity-ai-proyecto-2/lib/python3.8/site-packages (from matplotlib==3.4.3->-r requirements.txt (line 2)) (0.12.1)\n",
      "Requirement already satisfied: kiwisolver>=1.0.1 in /opt/anaconda3/envs/udacity-ai-proyecto-2/lib/python3.8/site-packages (from matplotlib==3.4.3->-r requirements.txt (line 2)) (1.4.5)\n",
      "Requirement already satisfied: pyparsing>=2.2.1 in /opt/anaconda3/envs/udacity-ai-proyecto-2/lib/python3.8/site-packages (from matplotlib==3.4.3->-r requirements.txt (line 2)) (3.1.2)\n",
      "Requirement already satisfied: python-dateutil>=2.7 in /opt/anaconda3/envs/udacity-ai-proyecto-2/lib/python3.8/site-packages (from matplotlib==3.4.3->-r requirements.txt (line 2)) (2.9.0)\n",
      "Requirement already satisfied: PyYAML>=3.10 in /opt/anaconda3/envs/udacity-ai-proyecto-2/lib/python3.8/site-packages (from bokeh==2.1.1->-r requirements.txt (line 5)) (6.0.1)\n",
      "Requirement already satisfied: Jinja2>=2.7 in /opt/anaconda3/envs/udacity-ai-proyecto-2/lib/python3.8/site-packages (from bokeh==2.1.1->-r requirements.txt (line 5)) (3.1.4)\n",
      "Requirement already satisfied: packaging>=16.8 in /opt/anaconda3/envs/udacity-ai-proyecto-2/lib/python3.8/site-packages (from bokeh==2.1.1->-r requirements.txt (line 5)) (24.1)\n",
      "Requirement already satisfied: tornado>=5.1 in /opt/anaconda3/envs/udacity-ai-proyecto-2/lib/python3.8/site-packages (from bokeh==2.1.1->-r requirements.txt (line 5)) (6.4.1)\n",
      "Requirement already satisfied: typing-extensions>=3.7.4 in /opt/anaconda3/envs/udacity-ai-proyecto-2/lib/python3.8/site-packages (from bokeh==2.1.1->-r requirements.txt (line 5)) (4.12.2)\n",
      "Requirement already satisfied: requests in /opt/anaconda3/envs/udacity-ai-proyecto-2/lib/python3.8/site-packages (from torchvision==0.12.0->-r requirements.txt (line 7)) (2.32.3)\n",
      "Requirement already satisfied: ipython-genutils~=0.2.0 in /opt/anaconda3/envs/udacity-ai-proyecto-2/lib/python3.8/site-packages (from ipywidgets==7.7.0->-r requirements.txt (line 9)) (0.2.0)\n",
      "Requirement already satisfied: traitlets>=4.3.1 in /opt/anaconda3/envs/udacity-ai-proyecto-2/lib/python3.8/site-packages (from ipywidgets==7.7.0->-r requirements.txt (line 9)) (5.14.3)\n",
      "Requirement already satisfied: nbformat>=4.2.0 in /opt/anaconda3/envs/udacity-ai-proyecto-2/lib/python3.8/site-packages (from ipywidgets==7.7.0->-r requirements.txt (line 9)) (5.10.4)\n",
      "Requirement already satisfied: widgetsnbextension~=3.6.0 in /opt/anaconda3/envs/udacity-ai-proyecto-2/lib/python3.8/site-packages (from ipywidgets==7.7.0->-r requirements.txt (line 9)) (3.6.6)\n",
      "Requirement already satisfied: ipython>=4.0.0 in /opt/anaconda3/envs/udacity-ai-proyecto-2/lib/python3.8/site-packages (from ipywidgets==7.7.0->-r requirements.txt (line 9)) (8.12.3)\n",
      "Requirement already satisfied: jupyterlab-widgets>=1.0.0 in /opt/anaconda3/envs/udacity-ai-proyecto-2/lib/python3.8/site-packages (from ipywidgets==7.7.0->-r requirements.txt (line 9)) (3.0.11)\n",
      "Requirement already satisfied: attrs>=19.2.0 in /opt/anaconda3/envs/udacity-ai-proyecto-2/lib/python3.8/site-packages (from pytest==7.1.1->-r requirements.txt (line 11)) (23.2.0)\n",
      "Requirement already satisfied: iniconfig in /opt/anaconda3/envs/udacity-ai-proyecto-2/lib/python3.8/site-packages (from pytest==7.1.1->-r requirements.txt (line 11)) (2.0.0)\n",
      "Requirement already satisfied: pluggy<2.0,>=0.12 in /opt/anaconda3/envs/udacity-ai-proyecto-2/lib/python3.8/site-packages (from pytest==7.1.1->-r requirements.txt (line 11)) (1.5.0)\n",
      "Requirement already satisfied: py>=1.8.2 in /opt/anaconda3/envs/udacity-ai-proyecto-2/lib/python3.8/site-packages (from pytest==7.1.1->-r requirements.txt (line 11)) (1.11.0)\n",
      "Requirement already satisfied: tomli>=1.0.0 in /opt/anaconda3/envs/udacity-ai-proyecto-2/lib/python3.8/site-packages (from pytest==7.1.1->-r requirements.txt (line 11)) (2.0.1)\n",
      "Requirement already satisfied: pytz>=2017.3 in /opt/anaconda3/envs/udacity-ai-proyecto-2/lib/python3.8/site-packages (from pandas==1.3.5->-r requirements.txt (line 12)) (2024.1)\n",
      "Requirement already satisfied: scipy>=1.0 in /opt/anaconda3/envs/udacity-ai-proyecto-2/lib/python3.8/site-packages (from seaborn==0.11.2->-r requirements.txt (line 13)) (1.10.1)\n",
      "Requirement already satisfied: notebook in /opt/anaconda3/envs/udacity-ai-proyecto-2/lib/python3.8/site-packages (from jupyter==1.0.0->-r requirements.txt (line 14)) (7.1.3)\n",
      "Requirement already satisfied: qtconsole in /opt/anaconda3/envs/udacity-ai-proyecto-2/lib/python3.8/site-packages (from jupyter==1.0.0->-r requirements.txt (line 14)) (5.5.2)\n",
      "Requirement already satisfied: jupyter-console in /opt/anaconda3/envs/udacity-ai-proyecto-2/lib/python3.8/site-packages (from jupyter==1.0.0->-r requirements.txt (line 14)) (6.4.4)\n",
      "Requirement already satisfied: nbconvert in /opt/anaconda3/envs/udacity-ai-proyecto-2/lib/python3.8/site-packages (from jupyter==1.0.0->-r requirements.txt (line 14)) (7.16.4)\n",
      "Requirement already satisfied: jupyter-client in /opt/anaconda3/envs/udacity-ai-proyecto-2/lib/python3.8/site-packages (from ipykernel==4.10.0->-r requirements.txt (line 15)) (8.6.2)\n",
      "Requirement already satisfied: backcall in /opt/anaconda3/envs/udacity-ai-proyecto-2/lib/python3.8/site-packages (from ipython>=4.0.0->ipywidgets==7.7.0->-r requirements.txt (line 9)) (0.2.0)\n",
      "Requirement already satisfied: decorator in /opt/anaconda3/envs/udacity-ai-proyecto-2/lib/python3.8/site-packages (from ipython>=4.0.0->ipywidgets==7.7.0->-r requirements.txt (line 9)) (5.1.1)\n",
      "Requirement already satisfied: jedi>=0.16 in /opt/anaconda3/envs/udacity-ai-proyecto-2/lib/python3.8/site-packages (from ipython>=4.0.0->ipywidgets==7.7.0->-r requirements.txt (line 9)) (0.19.1)\n",
      "Requirement already satisfied: matplotlib-inline in /opt/anaconda3/envs/udacity-ai-proyecto-2/lib/python3.8/site-packages (from ipython>=4.0.0->ipywidgets==7.7.0->-r requirements.txt (line 9)) (0.1.7)\n",
      "Requirement already satisfied: pickleshare in /opt/anaconda3/envs/udacity-ai-proyecto-2/lib/python3.8/site-packages (from ipython>=4.0.0->ipywidgets==7.7.0->-r requirements.txt (line 9)) (0.7.5)\n",
      "Requirement already satisfied: prompt-toolkit!=3.0.37,<3.1.0,>=3.0.30 in /opt/anaconda3/envs/udacity-ai-proyecto-2/lib/python3.8/site-packages (from ipython>=4.0.0->ipywidgets==7.7.0->-r requirements.txt (line 9)) (3.0.47)\n",
      "Requirement already satisfied: pygments>=2.4.0 in /opt/anaconda3/envs/udacity-ai-proyecto-2/lib/python3.8/site-packages (from ipython>=4.0.0->ipywidgets==7.7.0->-r requirements.txt (line 9)) (2.18.0)\n",
      "Requirement already satisfied: stack-data in /opt/anaconda3/envs/udacity-ai-proyecto-2/lib/python3.8/site-packages (from ipython>=4.0.0->ipywidgets==7.7.0->-r requirements.txt (line 9)) (0.6.2)\n",
      "Requirement already satisfied: pexpect>4.3 in /opt/anaconda3/envs/udacity-ai-proyecto-2/lib/python3.8/site-packages (from ipython>=4.0.0->ipywidgets==7.7.0->-r requirements.txt (line 9)) (4.9.0)\n",
      "Requirement already satisfied: appnope in /opt/anaconda3/envs/udacity-ai-proyecto-2/lib/python3.8/site-packages (from ipython>=4.0.0->ipywidgets==7.7.0->-r requirements.txt (line 9)) (0.1.4)\n",
      "Requirement already satisfied: MarkupSafe>=2.0 in /opt/anaconda3/envs/udacity-ai-proyecto-2/lib/python3.8/site-packages (from Jinja2>=2.7->bokeh==2.1.1->-r requirements.txt (line 5)) (2.1.5)\n",
      "Requirement already satisfied: fastjsonschema>=2.15 in /opt/anaconda3/envs/udacity-ai-proyecto-2/lib/python3.8/site-packages (from nbformat>=4.2.0->ipywidgets==7.7.0->-r requirements.txt (line 9)) (2.20.0)\n",
      "Requirement already satisfied: jsonschema>=2.6 in /opt/anaconda3/envs/udacity-ai-proyecto-2/lib/python3.8/site-packages (from nbformat>=4.2.0->ipywidgets==7.7.0->-r requirements.txt (line 9)) (4.22.0)\n",
      "Requirement already satisfied: jupyter-core!=5.0.*,>=4.12 in /opt/anaconda3/envs/udacity-ai-proyecto-2/lib/python3.8/site-packages (from nbformat>=4.2.0->ipywidgets==7.7.0->-r requirements.txt (line 9)) (5.7.2)\n",
      "Requirement already satisfied: six>=1.5 in /opt/anaconda3/envs/udacity-ai-proyecto-2/lib/python3.8/site-packages (from python-dateutil>=2.7->matplotlib==3.4.3->-r requirements.txt (line 2)) (1.16.0)\n",
      "Requirement already satisfied: jupyter-server<3,>=2.4.0 in /opt/anaconda3/envs/udacity-ai-proyecto-2/lib/python3.8/site-packages (from notebook->jupyter==1.0.0->-r requirements.txt (line 14)) (2.14.1)\n",
      "Requirement already satisfied: jupyterlab-server<3,>=2.22.1 in /opt/anaconda3/envs/udacity-ai-proyecto-2/lib/python3.8/site-packages (from notebook->jupyter==1.0.0->-r requirements.txt (line 14)) (2.27.2)\n",
      "Requirement already satisfied: jupyterlab<4.2,>=4.1.1 in /opt/anaconda3/envs/udacity-ai-proyecto-2/lib/python3.8/site-packages (from notebook->jupyter==1.0.0->-r requirements.txt (line 14)) (4.1.5)\n",
      "Requirement already satisfied: notebook-shim<0.3,>=0.2 in /opt/anaconda3/envs/udacity-ai-proyecto-2/lib/python3.8/site-packages (from notebook->jupyter==1.0.0->-r requirements.txt (line 14)) (0.2.4)\n",
      "Requirement already satisfied: importlib-metadata>=4.8.3 in /opt/anaconda3/envs/udacity-ai-proyecto-2/lib/python3.8/site-packages (from jupyter-client->ipykernel==4.10.0->-r requirements.txt (line 15)) (8.0.0)\n",
      "Requirement already satisfied: pyzmq>=23.0 in /opt/anaconda3/envs/udacity-ai-proyecto-2/lib/python3.8/site-packages (from jupyter-client->ipykernel==4.10.0->-r requirements.txt (line 15)) (25.1.1)\n",
      "Requirement already satisfied: beautifulsoup4 in /opt/anaconda3/envs/udacity-ai-proyecto-2/lib/python3.8/site-packages (from nbconvert->jupyter==1.0.0->-r requirements.txt (line 14)) (4.12.3)\n",
      "Requirement already satisfied: bleach!=5.0.0 in /opt/anaconda3/envs/udacity-ai-proyecto-2/lib/python3.8/site-packages (from nbconvert->jupyter==1.0.0->-r requirements.txt (line 14)) (6.1.0)\n",
      "Requirement already satisfied: defusedxml in /opt/anaconda3/envs/udacity-ai-proyecto-2/lib/python3.8/site-packages (from nbconvert->jupyter==1.0.0->-r requirements.txt (line 14)) (0.7.1)\n",
      "Requirement already satisfied: jupyterlab-pygments in /opt/anaconda3/envs/udacity-ai-proyecto-2/lib/python3.8/site-packages (from nbconvert->jupyter==1.0.0->-r requirements.txt (line 14)) (0.3.0)\n",
      "Requirement already satisfied: mistune<4,>=2.0.3 in /opt/anaconda3/envs/udacity-ai-proyecto-2/lib/python3.8/site-packages (from nbconvert->jupyter==1.0.0->-r requirements.txt (line 14)) (3.0.2)\n",
      "Requirement already satisfied: nbclient>=0.5.0 in /opt/anaconda3/envs/udacity-ai-proyecto-2/lib/python3.8/site-packages (from nbconvert->jupyter==1.0.0->-r requirements.txt (line 14)) (0.10.0)\n",
      "Requirement already satisfied: pandocfilters>=1.4.1 in /opt/anaconda3/envs/udacity-ai-proyecto-2/lib/python3.8/site-packages (from nbconvert->jupyter==1.0.0->-r requirements.txt (line 14)) (1.5.1)\n",
      "Requirement already satisfied: tinycss2 in /opt/anaconda3/envs/udacity-ai-proyecto-2/lib/python3.8/site-packages (from nbconvert->jupyter==1.0.0->-r requirements.txt (line 14)) (1.3.0)\n",
      "Requirement already satisfied: qtpy>=2.4.0 in /opt/anaconda3/envs/udacity-ai-proyecto-2/lib/python3.8/site-packages (from qtconsole->jupyter==1.0.0->-r requirements.txt (line 14)) (2.4.1)\n",
      "Requirement already satisfied: charset-normalizer<4,>=2 in /opt/anaconda3/envs/udacity-ai-proyecto-2/lib/python3.8/site-packages (from requests->torchvision==0.12.0->-r requirements.txt (line 7)) (3.3.2)\n",
      "Requirement already satisfied: idna<4,>=2.5 in /opt/anaconda3/envs/udacity-ai-proyecto-2/lib/python3.8/site-packages (from requests->torchvision==0.12.0->-r requirements.txt (line 7)) (3.7)\n",
      "Requirement already satisfied: urllib3<3,>=1.21.1 in /opt/anaconda3/envs/udacity-ai-proyecto-2/lib/python3.8/site-packages (from requests->torchvision==0.12.0->-r requirements.txt (line 7)) (2.2.2)\n",
      "Requirement already satisfied: certifi>=2017.4.17 in /opt/anaconda3/envs/udacity-ai-proyecto-2/lib/python3.8/site-packages (from requests->torchvision==0.12.0->-r requirements.txt (line 7)) (2024.6.2)\n",
      "Requirement already satisfied: webencodings in /opt/anaconda3/envs/udacity-ai-proyecto-2/lib/python3.8/site-packages (from bleach!=5.0.0->nbconvert->jupyter==1.0.0->-r requirements.txt (line 14)) (0.5.1)\n",
      "Requirement already satisfied: zipp>=0.5 in /opt/anaconda3/envs/udacity-ai-proyecto-2/lib/python3.8/site-packages (from importlib-metadata>=4.8.3->jupyter-client->ipykernel==4.10.0->-r requirements.txt (line 15)) (3.19.2)\n",
      "Requirement already satisfied: parso<0.9.0,>=0.8.3 in /opt/anaconda3/envs/udacity-ai-proyecto-2/lib/python3.8/site-packages (from jedi>=0.16->ipython>=4.0.0->ipywidgets==7.7.0->-r requirements.txt (line 9)) (0.8.4)\n",
      "Requirement already satisfied: importlib-resources>=1.4.0 in /opt/anaconda3/envs/udacity-ai-proyecto-2/lib/python3.8/site-packages (from jsonschema>=2.6->nbformat>=4.2.0->ipywidgets==7.7.0->-r requirements.txt (line 9)) (6.4.0)\n",
      "Requirement already satisfied: jsonschema-specifications>=2023.03.6 in /opt/anaconda3/envs/udacity-ai-proyecto-2/lib/python3.8/site-packages (from jsonschema>=2.6->nbformat>=4.2.0->ipywidgets==7.7.0->-r requirements.txt (line 9)) (2023.12.1)\n",
      "Requirement already satisfied: pkgutil-resolve-name>=1.3.10 in /opt/anaconda3/envs/udacity-ai-proyecto-2/lib/python3.8/site-packages (from jsonschema>=2.6->nbformat>=4.2.0->ipywidgets==7.7.0->-r requirements.txt (line 9)) (1.3.10)\n",
      "Requirement already satisfied: referencing>=0.28.4 in /opt/anaconda3/envs/udacity-ai-proyecto-2/lib/python3.8/site-packages (from jsonschema>=2.6->nbformat>=4.2.0->ipywidgets==7.7.0->-r requirements.txt (line 9)) (0.35.1)\n",
      "Requirement already satisfied: rpds-py>=0.7.1 in /opt/anaconda3/envs/udacity-ai-proyecto-2/lib/python3.8/site-packages (from jsonschema>=2.6->nbformat>=4.2.0->ipywidgets==7.7.0->-r requirements.txt (line 9)) (0.18.1)\n",
      "Requirement already satisfied: platformdirs>=2.5 in /opt/anaconda3/envs/udacity-ai-proyecto-2/lib/python3.8/site-packages (from jupyter-core!=5.0.*,>=4.12->nbformat>=4.2.0->ipywidgets==7.7.0->-r requirements.txt (line 9)) (4.2.2)\n",
      "Requirement already satisfied: anyio>=3.1.0 in /opt/anaconda3/envs/udacity-ai-proyecto-2/lib/python3.8/site-packages (from jupyter-server<3,>=2.4.0->notebook->jupyter==1.0.0->-r requirements.txt (line 14)) (4.4.0)\n",
      "Requirement already satisfied: argon2-cffi>=21.1 in /opt/anaconda3/envs/udacity-ai-proyecto-2/lib/python3.8/site-packages (from jupyter-server<3,>=2.4.0->notebook->jupyter==1.0.0->-r requirements.txt (line 14)) (23.1.0)\n",
      "Requirement already satisfied: jupyter-events>=0.9.0 in /opt/anaconda3/envs/udacity-ai-proyecto-2/lib/python3.8/site-packages (from jupyter-server<3,>=2.4.0->notebook->jupyter==1.0.0->-r requirements.txt (line 14)) (0.10.0)\n",
      "Requirement already satisfied: jupyter-server-terminals>=0.4.4 in /opt/anaconda3/envs/udacity-ai-proyecto-2/lib/python3.8/site-packages (from jupyter-server<3,>=2.4.0->notebook->jupyter==1.0.0->-r requirements.txt (line 14)) (0.5.3)\n",
      "Requirement already satisfied: overrides>=5.0 in /opt/anaconda3/envs/udacity-ai-proyecto-2/lib/python3.8/site-packages (from jupyter-server<3,>=2.4.0->notebook->jupyter==1.0.0->-r requirements.txt (line 14)) (7.7.0)\n",
      "Requirement already satisfied: prometheus-client>=0.9 in /opt/anaconda3/envs/udacity-ai-proyecto-2/lib/python3.8/site-packages (from jupyter-server<3,>=2.4.0->notebook->jupyter==1.0.0->-r requirements.txt (line 14)) (0.20.0)\n",
      "Requirement already satisfied: send2trash>=1.8.2 in /opt/anaconda3/envs/udacity-ai-proyecto-2/lib/python3.8/site-packages (from jupyter-server<3,>=2.4.0->notebook->jupyter==1.0.0->-r requirements.txt (line 14)) (1.8.3)\n",
      "Requirement already satisfied: terminado>=0.8.3 in /opt/anaconda3/envs/udacity-ai-proyecto-2/lib/python3.8/site-packages (from jupyter-server<3,>=2.4.0->notebook->jupyter==1.0.0->-r requirements.txt (line 14)) (0.18.1)\n",
      "Requirement already satisfied: websocket-client>=1.7 in /opt/anaconda3/envs/udacity-ai-proyecto-2/lib/python3.8/site-packages (from jupyter-server<3,>=2.4.0->notebook->jupyter==1.0.0->-r requirements.txt (line 14)) (1.8.0)\n",
      "Requirement already satisfied: async-lru>=1.0.0 in /opt/anaconda3/envs/udacity-ai-proyecto-2/lib/python3.8/site-packages (from jupyterlab<4.2,>=4.1.1->notebook->jupyter==1.0.0->-r requirements.txt (line 14)) (2.0.4)\n",
      "Requirement already satisfied: httpx>=0.25.0 in /opt/anaconda3/envs/udacity-ai-proyecto-2/lib/python3.8/site-packages (from jupyterlab<4.2,>=4.1.1->notebook->jupyter==1.0.0->-r requirements.txt (line 14)) (0.27.0)\n",
      "Requirement already satisfied: jupyter-lsp>=2.0.0 in /opt/anaconda3/envs/udacity-ai-proyecto-2/lib/python3.8/site-packages (from jupyterlab<4.2,>=4.1.1->notebook->jupyter==1.0.0->-r requirements.txt (line 14)) (2.2.5)\n",
      "Requirement already satisfied: babel>=2.10 in /opt/anaconda3/envs/udacity-ai-proyecto-2/lib/python3.8/site-packages (from jupyterlab-server<3,>=2.22.1->notebook->jupyter==1.0.0->-r requirements.txt (line 14)) (2.15.0)\n",
      "Requirement already satisfied: json5>=0.9.0 in /opt/anaconda3/envs/udacity-ai-proyecto-2/lib/python3.8/site-packages (from jupyterlab-server<3,>=2.22.1->notebook->jupyter==1.0.0->-r requirements.txt (line 14)) (0.9.25)\n",
      "Requirement already satisfied: ptyprocess>=0.5 in /opt/anaconda3/envs/udacity-ai-proyecto-2/lib/python3.8/site-packages (from pexpect>4.3->ipython>=4.0.0->ipywidgets==7.7.0->-r requirements.txt (line 9)) (0.7.0)\n",
      "Requirement already satisfied: wcwidth in /opt/anaconda3/envs/udacity-ai-proyecto-2/lib/python3.8/site-packages (from prompt-toolkit!=3.0.37,<3.1.0,>=3.0.30->ipython>=4.0.0->ipywidgets==7.7.0->-r requirements.txt (line 9)) (0.2.13)\n",
      "Requirement already satisfied: soupsieve>1.2 in /opt/anaconda3/envs/udacity-ai-proyecto-2/lib/python3.8/site-packages (from beautifulsoup4->nbconvert->jupyter==1.0.0->-r requirements.txt (line 14)) (2.5)\n",
      "Requirement already satisfied: executing>=1.2.0 in /opt/anaconda3/envs/udacity-ai-proyecto-2/lib/python3.8/site-packages (from stack-data->ipython>=4.0.0->ipywidgets==7.7.0->-r requirements.txt (line 9)) (2.0.1)\n",
      "Requirement already satisfied: asttokens>=2.1.0 in /opt/anaconda3/envs/udacity-ai-proyecto-2/lib/python3.8/site-packages (from stack-data->ipython>=4.0.0->ipywidgets==7.7.0->-r requirements.txt (line 9)) (2.4.1)\n",
      "Requirement already satisfied: pure-eval in /opt/anaconda3/envs/udacity-ai-proyecto-2/lib/python3.8/site-packages (from stack-data->ipython>=4.0.0->ipywidgets==7.7.0->-r requirements.txt (line 9)) (0.2.2)\n",
      "Requirement already satisfied: sniffio>=1.1 in /opt/anaconda3/envs/udacity-ai-proyecto-2/lib/python3.8/site-packages (from anyio>=3.1.0->jupyter-server<3,>=2.4.0->notebook->jupyter==1.0.0->-r requirements.txt (line 14)) (1.3.1)\n",
      "Requirement already satisfied: exceptiongroup>=1.0.2 in /opt/anaconda3/envs/udacity-ai-proyecto-2/lib/python3.8/site-packages (from anyio>=3.1.0->jupyter-server<3,>=2.4.0->notebook->jupyter==1.0.0->-r requirements.txt (line 14)) (1.2.1)\n",
      "Requirement already satisfied: argon2-cffi-bindings in /opt/anaconda3/envs/udacity-ai-proyecto-2/lib/python3.8/site-packages (from argon2-cffi>=21.1->jupyter-server<3,>=2.4.0->notebook->jupyter==1.0.0->-r requirements.txt (line 14)) (21.2.0)\n",
      "Requirement already satisfied: httpcore==1.* in /opt/anaconda3/envs/udacity-ai-proyecto-2/lib/python3.8/site-packages (from httpx>=0.25.0->jupyterlab<4.2,>=4.1.1->notebook->jupyter==1.0.0->-r requirements.txt (line 14)) (1.0.5)\n",
      "Requirement already satisfied: h11<0.15,>=0.13 in /opt/anaconda3/envs/udacity-ai-proyecto-2/lib/python3.8/site-packages (from httpcore==1.*->httpx>=0.25.0->jupyterlab<4.2,>=4.1.1->notebook->jupyter==1.0.0->-r requirements.txt (line 14)) (0.14.0)\n",
      "Requirement already satisfied: python-json-logger>=2.0.4 in /opt/anaconda3/envs/udacity-ai-proyecto-2/lib/python3.8/site-packages (from jupyter-events>=0.9.0->jupyter-server<3,>=2.4.0->notebook->jupyter==1.0.0->-r requirements.txt (line 14)) (2.0.7)\n",
      "Requirement already satisfied: rfc3339-validator in /opt/anaconda3/envs/udacity-ai-proyecto-2/lib/python3.8/site-packages (from jupyter-events>=0.9.0->jupyter-server<3,>=2.4.0->notebook->jupyter==1.0.0->-r requirements.txt (line 14)) (0.1.4)\n",
      "Requirement already satisfied: rfc3986-validator>=0.1.1 in /opt/anaconda3/envs/udacity-ai-proyecto-2/lib/python3.8/site-packages (from jupyter-events>=0.9.0->jupyter-server<3,>=2.4.0->notebook->jupyter==1.0.0->-r requirements.txt (line 14)) (0.1.1)\n",
      "Requirement already satisfied: fqdn in /opt/anaconda3/envs/udacity-ai-proyecto-2/lib/python3.8/site-packages (from jsonschema[format-nongpl]>=4.18.0->jupyter-events>=0.9.0->jupyter-server<3,>=2.4.0->notebook->jupyter==1.0.0->-r requirements.txt (line 14)) (1.5.1)\n",
      "Requirement already satisfied: isoduration in /opt/anaconda3/envs/udacity-ai-proyecto-2/lib/python3.8/site-packages (from jsonschema[format-nongpl]>=4.18.0->jupyter-events>=0.9.0->jupyter-server<3,>=2.4.0->notebook->jupyter==1.0.0->-r requirements.txt (line 14)) (20.11.0)\n",
      "Requirement already satisfied: jsonpointer>1.13 in /opt/anaconda3/envs/udacity-ai-proyecto-2/lib/python3.8/site-packages (from jsonschema[format-nongpl]>=4.18.0->jupyter-events>=0.9.0->jupyter-server<3,>=2.4.0->notebook->jupyter==1.0.0->-r requirements.txt (line 14)) (3.0.0)\n",
      "Requirement already satisfied: uri-template in /opt/anaconda3/envs/udacity-ai-proyecto-2/lib/python3.8/site-packages (from jsonschema[format-nongpl]>=4.18.0->jupyter-events>=0.9.0->jupyter-server<3,>=2.4.0->notebook->jupyter==1.0.0->-r requirements.txt (line 14)) (1.3.0)\n",
      "Requirement already satisfied: webcolors>=1.11 in /opt/anaconda3/envs/udacity-ai-proyecto-2/lib/python3.8/site-packages (from jsonschema[format-nongpl]>=4.18.0->jupyter-events>=0.9.0->jupyter-server<3,>=2.4.0->notebook->jupyter==1.0.0->-r requirements.txt (line 14)) (24.6.0)\n",
      "Requirement already satisfied: cffi>=1.0.1 in /opt/anaconda3/envs/udacity-ai-proyecto-2/lib/python3.8/site-packages (from argon2-cffi-bindings->argon2-cffi>=21.1->jupyter-server<3,>=2.4.0->notebook->jupyter==1.0.0->-r requirements.txt (line 14)) (1.16.0)\n",
      "Requirement already satisfied: pycparser in /opt/anaconda3/envs/udacity-ai-proyecto-2/lib/python3.8/site-packages (from cffi>=1.0.1->argon2-cffi-bindings->argon2-cffi>=21.1->jupyter-server<3,>=2.4.0->notebook->jupyter==1.0.0->-r requirements.txt (line 14)) (2.22)\n",
      "Requirement already satisfied: arrow>=0.15.0 in /opt/anaconda3/envs/udacity-ai-proyecto-2/lib/python3.8/site-packages (from isoduration->jsonschema[format-nongpl]>=4.18.0->jupyter-events>=0.9.0->jupyter-server<3,>=2.4.0->notebook->jupyter==1.0.0->-r requirements.txt (line 14)) (1.3.0)\n",
      "Requirement already satisfied: types-python-dateutil>=2.8.10 in /opt/anaconda3/envs/udacity-ai-proyecto-2/lib/python3.8/site-packages (from arrow>=0.15.0->isoduration->jsonschema[format-nongpl]>=4.18.0->jupyter-events>=0.9.0->jupyter-server<3,>=2.4.0->notebook->jupyter==1.0.0->-r requirements.txt (line 14)) (2.9.0.20240316)\n"
     ]
    }
   ],
   "source": [
    "# Install requirements\n",
    "!python -m pip install -r requirements.txt\n"
   ]
  },
  {
   "cell_type": "markdown",
   "metadata": {},
   "source": [
    "## Imports"
   ]
  },
  {
   "cell_type": "code",
   "execution_count": 55,
   "metadata": {},
   "outputs": [],
   "source": [
    "## This cell contains the essential imports you will need – DO NOT CHANGE THE CONTENTS! ##\n",
    "import torch\n",
    "import torch.nn as nn\n",
    "import torch.nn.functional as F\n",
    "import torch.optim as optim\n",
    "import torchvision\n",
    "import torchvision.transforms as transforms\n",
    "import matplotlib.pyplot as plt\n",
    "import numpy as np"
   ]
  },
  {
   "cell_type": "markdown",
   "metadata": {},
   "source": [
    "## Load the Dataset\n",
    "\n",
    "Specify your transforms as a list if you intend to .\n",
    "The transforms module is already loaded as `transforms`.\n",
    "\n",
    "MNIST is fortunately included in the torchvision module.\n",
    "Then, you can create your dataset using the `MNIST` object from `torchvision.datasets` ([the documentation is available here](https://pytorch.org/vision/stable/datasets.html#mnist)).\n",
    "Make sure to specify `download=True`! \n",
    "\n",
    "Once your dataset is created, you'll also need to define a `DataLoader` from the `torch.utils.data` module for both the train and the test set."
   ]
  },
  {
   "cell_type": "code",
   "execution_count": 56,
   "metadata": {},
   "outputs": [
    {
     "name": "stdout",
     "output_type": "stream",
     "text": [
      "Lot size images: torch.Size([64, 784])\n",
      "Lot size labels: torch.Size([64])\n"
     ]
    }
   ],
   "source": [
    "import torchvision.datasets as datasets\n",
    "from torch.utils.data import DataLoader\n",
    "\n",
    "# Define transforms\n",
    "transform = transforms.Compose([\n",
    "    transforms.ToTensor(),\n",
    "    transforms.Normalize((0.5,), (0.5,)),\n",
    "    transforms.Lambda(lambda x: x.view(-1))\n",
    "])\n",
    "\n",
    "# Create training set and define training dataloader\n",
    "train_dataset = datasets.MNIST(root='./data', train=True, download=True, transform=transform)\n",
    "test_dataset = datasets.MNIST(root='./data', train=False, download=True, transform=transform)\n",
    "\n",
    "# Create test set and define test dataloader\n",
    "train_loader = DataLoader(dataset=train_dataset, batch_size=64, shuffle=True)\n",
    "test_loader = DataLoader(dataset=test_dataset, batch_size=64, shuffle=False)\n",
    "\n",
    "\n",
    "# Verify the form of the data\n",
    "for images, labels in train_loader:\n",
    "    print(f'Lot size images: {images.shape}')\n",
    "    print(f'Lot size labels: {labels.shape}')\n",
    "    break"
   ]
  },
  {
   "cell_type": "markdown",
   "metadata": {},
   "source": [
    "## Justify your preprocessing\n",
    "\n",
    "In your own words, why did you choose the transforms you chose? If you didn't use any preprocessing steps, why not?"
   ]
  },
  {
   "cell_type": "markdown",
   "metadata": {},
   "source": [
    "**DOUBLE CLICK THIS CELL TO MODIFY**"
   ]
  },
  {
   "cell_type": "markdown",
   "metadata": {},
   "source": [
    "# My response to Justification of preprocessing steps.\n",
    "\n",
    "Preprocessing is necessary to make the data suitable for input into a neural network, and here is the explanation of some points:\n",
    "\n",
    "- **Normalizing images** (with a mean value of 0.5 and a standard deviation of 0.5) ensures that pixel values are in the interval [-1, 1], which helps stabilize and **accelerate** **training**.\n",
    "\n",
    " - **Resizing**: image flattening converts each image from a 2D matrix (28x28) to a 1D vector, which is necessary if a fully connected neural network is used as a model.\n",
    "\n",
    "- **Data augmentation**: We added random rotation and random horizontal flipping to increase the diversity of the training data and improve the generalization of the model.\n",
    "\n",
    "- **Tensor conversion**: We convert images to tensors using `transforms.ToTensor()`."
   ]
  },
  {
   "cell_type": "markdown",
   "metadata": {},
   "source": [
    "## Explore the Dataset\n",
    "Using matplotlib, numpy, and torch, explore the dimensions of your data.\n",
    "\n",
    "You can view images using the `show5` function defined below – it takes a data loader as an argument.\n",
    "Remember that normalized images will look really weird to you! You may want to try changing your transforms to view images.\n",
    "Typically using no transforms other than `toTensor()` works well for viewing – but not as well for training your network.\n",
    "If `show5` doesn't work, go back and check your code for creating your data loaders and your training/test sets."
   ]
  },
  {
   "cell_type": "code",
   "execution_count": 57,
   "metadata": {},
   "outputs": [],
   "source": [
    "## This cell contains a function for showing 5 images from a dataloader – DO NOT CHANGE THE CONTENTS! ##\n",
    "def show5(img_loader):\n",
    "    dataiter = iter(img_loader)\n",
    "    \n",
    "    batch = next(dataiter)\n",
    "    labels = batch[1][0:5]\n",
    "    images = batch[0][0:5]\n",
    "    for i in range(5):\n",
    "        print(int(labels[i].detach()))\n",
    "    \n",
    "        image = images[i].numpy()\n",
    "        plt.imshow(image.T.squeeze().T)\n",
    "        plt.show()"
   ]
  },
  {
   "cell_type": "code",
   "execution_count": 58,
   "metadata": {},
   "outputs": [
    {
     "name": "stdout",
     "output_type": "stream",
     "text": [
      "1\n"
     ]
    },
    {
     "data": {
      "image/png": "[encoded data removed]",
      "text/plain": [
       "<Figure size 640x480 with 1 Axes>"
      ]
     },
     "metadata": {},
     "output_type": "display_data"
    },
    {
     "name": "stdout",
     "output_type": "stream",
     "text": [
      "0\n"
     ]
    },
    {
     "data": {
      "image/png": "[encoded data removed]",
      "text/plain": [
       "<Figure size 640x480 with 1 Axes>"
      ]
     },
     "metadata": {},
     "output_type": "display_data"
    },
    {
     "name": "stdout",
     "output_type": "stream",
     "text": [
      "7\n"
     ]
    },
    {
     "data": {
      "image/png": "[encoded data removed]",
      "text/plain": [
       "<Figure size 640x480 with 1 Axes>"
      ]
     },
     "metadata": {},
     "output_type": "display_data"
    },
    {
     "name": "stdout",
     "output_type": "stream",
     "text": [
      "7\n"
     ]
    },
    {
     "data": {
      "image/png": "[encoded data removed]",
      "text/plain": [
       "<Figure size 640x480 with 1 Axes>"
      ]
     },
     "metadata": {},
     "output_type": "display_data"
    },
    {
     "name": "stdout",
     "output_type": "stream",
     "text": [
      "9\n"
     ]
    },
    {
     "data": {
      "image/png": "[encoded data removed]",
      "text/plain": [
       "<Figure size 640x480 with 1 Axes>"
      ]
     },
     "metadata": {},
     "output_type": "display_data"
    }
   ],
   "source": [
    "# Explore data\n",
    "## YOUR CODE HERE ##\n",
    "\n",
    "# Display the dataset using the show5 function\n",
    "def unflatten_and_unnormalize(images):\n",
    "    images = images.view(-1, 1, 28, 28)\n",
    "    images = (images * 0.5) + 0.5\n",
    "    return images\n",
    "\n",
    "# Reverse transformations before moving to show5\n",
    "for images, labels in train_loader:\n",
    "    unflattened_images = unflatten_and_unnormalize(images)\n",
    "    unflattened_labels = labels\n",
    "    break\n",
    "\n",
    "class CustomLoader:\n",
    "    def __init__(self, images, labels):\n",
    "        self.images = images\n",
    "        self.labels = labels\n",
    "\n",
    "    def __iter__(self):\n",
    "        yield self.images, self.labels\n",
    "\n",
    "custom_loader = CustomLoader(unflattened_images, unflattened_labels)\n",
    "\n",
    "# Display 5 images of the transformed dataset\n",
    "show5(custom_loader)\n"
   ]
  },
  {
   "cell_type": "code",
   "execution_count": 59,
   "metadata": {},
   "outputs": [
    {
     "name": "stdout",
     "output_type": "stream",
     "text": [
      "Shape of the images (untransformed): torch.Size([64, 1, 28, 28])\n",
      "Label shape: torch.Size([64])\n",
      "Shape of the images (untransformed): torch.Size([64, 784])\n",
      "Label shape: torch.Size([64])\n"
     ]
    }
   ],
   "source": [
    "## Explore data\n",
    "\n",
    "# Create a second DataLoader without normalization and flattening\n",
    "transform_no_norm = transforms.Compose([\n",
    "    transforms.ToTensor()\n",
    "])\n",
    "\n",
    "# Download and load the MNIST dataset without additional transformations\n",
    "train_dataset_no_norm = datasets.MNIST(root='./data', train=True, download=True, transform=transform_no_norm)\n",
    "test_dataset_no_norm = datasets.MNIST(root='./data', train=False, download=True, transform=transform_no_norm)\n",
    "\n",
    "# Create dataloaders to iterate over the untransformed datasets\n",
    "train_loader_no_norm = DataLoader(dataset=train_dataset_no_norm, batch_size=64, shuffle=True)\n",
    "test_loader_no_norm = DataLoader(dataset=test_dataset_no_norm, batch_size=64, shuffle=False)\n",
    "\n",
    "\n",
    "# Explore the size and shape of data\n",
    "for images, labels in train_loader_no_norm:\n",
    "    print(f'Shape of the images (untransformed): {images.shape}')\n",
    "    print(f'Label shape: {labels.shape}')\n",
    "    break\n",
    "\n",
    "for images, labels in train_loader:\n",
    "    print(f'Shape of the images (untransformed): {images.shape}')\n",
    "    print(f'Label shape: {labels.shape}')\n",
    "    break\n"
   ]
  },
  {
   "cell_type": "markdown",
   "metadata": {},
   "source": [
    "## Build your Neural Network\n",
    "Using the layers in `torch.nn` (which has been imported as `nn`) and the `torch.nn.functional` module (imported as `F`), construct a neural network based on the parameters of the dataset.\n",
    "Use any architecture you like. \n",
    "\n",
    "*Note*: If you did not flatten your tensors in your transforms or as part of your preprocessing and you are using only `Linear` layers, make sure to use the `Flatten` layer in your network!"
   ]
  },
  {
   "cell_type": "code",
   "execution_count": 60,
   "metadata": {},
   "outputs": [],
   "source": [
    "## YOUR CODE HERE ##\n",
    "class Net(nn.Module):\n",
    "    def __init__(self):\n",
    "        super(Net, self).__init__()\n",
    "        self.fc1 = nn.Linear(28 * 28, 512)\n",
    "        self.fc2 = nn.Linear(512, 256)\n",
    "        self.fc3 = nn.Linear(256, 10)\n",
    "\n",
    "    def forward(self, x):\n",
    "        x = F.relu(self.fc1(x))\n",
    "        x = F.relu(self.fc2(x))\n",
    "        x = self.fc3(x)\n",
    "        return x\n",
    "\n",
    "# Create a network instance\n",
    "model = Net()\n"
   ]
  },
  {
   "cell_type": "markdown",
   "metadata": {},
   "source": [
    "Specify a loss function and an optimizer, and instantiate the model.\n",
    "\n",
    "If you use a less common loss function, please note why you chose that loss function in a comment."
   ]
  },
  {
   "cell_type": "code",
   "execution_count": 61,
   "metadata": {},
   "outputs": [
    {
     "data": {
      "text/plain": [
       "Net(\n",
       "  (fc1): Linear(in_features=784, out_features=512, bias=True)\n",
       "  (fc2): Linear(in_features=512, out_features=256, bias=True)\n",
       "  (fc3): Linear(in_features=256, out_features=10, bias=True)\n",
       ")"
      ]
     },
     "execution_count": 61,
     "metadata": {},
     "output_type": "execute_result"
    }
   ],
   "source": [
    "## YOUR CODE HERE ##\n",
    "## Specify a loss function and an optimizer, and instantiate the model.\n",
    "\n",
    "# Loss function\n",
    "loss_function = nn.CrossEntropyLoss()\n",
    "\n",
    "# Adam Optimizer\n",
    "optimizer = torch.optim.Adam(model.parameters(), lr=0.001)\n",
    "\n",
    "# If you are using GPU\n",
    "device = torch.device(\"cuda\" if torch.cuda.is_available() else \"cpu\")\n",
    "model.to(device)\n"
   ]
  },
  {
   "cell_type": "markdown",
   "metadata": {},
   "source": [
    "## Running your Neural Network\n",
    "Use whatever method you like to train your neural network, and ensure you record the average loss at each epoch. \n",
    "Don't forget to use `torch.device()` and the `.to()` method for both your model and your data if you are using GPU!\n",
    "\n",
    "If you want to print your loss **during** each epoch, you can use the `enumerate` function and print the loss after a set number of batches. 250 batches works well for most people!"
   ]
  },
  {
   "cell_type": "code",
   "execution_count": 62,
   "metadata": {},
   "outputs": [
    {
     "name": "stdout",
     "output_type": "stream",
     "text": [
      "Epoch [1/5], Step [250/938], Loss: 2.1419\n",
      "Epoch [1/5], Step [500/938], Loss: 1.8984\n",
      "Epoch [1/5], Step [750/938], Loss: 1.5294\n",
      "Epoch [1/5], Loss: 1.9004\n",
      "Epoch [2/5], Step [250/938], Loss: 1.1865\n",
      "Epoch [2/5], Step [500/938], Loss: 1.0898\n",
      "Epoch [2/5], Step [750/938], Loss: 0.9315\n",
      "Epoch [2/5], Loss: 1.0724\n",
      "Epoch [3/5], Step [250/938], Loss: 0.6242\n",
      "Epoch [3/5], Step [500/938], Loss: 0.6566\n",
      "Epoch [3/5], Step [750/938], Loss: 0.5819\n",
      "Epoch [3/5], Loss: 0.7011\n",
      "Epoch [4/5], Step [250/938], Loss: 0.6097\n",
      "Epoch [4/5], Step [500/938], Loss: 0.4865\n",
      "Epoch [4/5], Step [750/938], Loss: 0.4494\n",
      "Epoch [4/5], Loss: 0.5505\n",
      "Epoch [5/5], Step [250/938], Loss: 0.7756\n",
      "Epoch [5/5], Step [500/938], Loss: 0.5441\n",
      "Epoch [5/5], Step [750/938], Loss: 0.3872\n",
      "Epoch [5/5], Loss: 0.4734\n"
     ]
    }
   ],
   "source": [
    "## YOUR CODE HERE ##\n",
    "\n",
    "## Running your Neural Network\n",
    "def train_model(num_epochs, learning_rate):\n",
    "    # Define the loss function and the optimizer\n",
    "    loss_function = nn.CrossEntropyLoss()\n",
    "    optimizer = optim.Adam(model.parameters(), lr=learning_rate)\n",
    "\n",
    "    # List for storing the training loss in each period\n",
    "    training_losses = []\n",
    "\n",
    "    for epoch in range(num_epochs):\n",
    "        model.train()\n",
    "        running_loss = 0.0\n",
    "\n",
    "        for i, (images, labels) in enumerate(train_loader):\n",
    "            images, labels = images.to(device), labels.to(device)\n",
    "\n",
    "            # Clean gradients\n",
    "            optimizer.zero_grad()\n",
    "\n",
    "            # Forward pass\n",
    "            outputs = model(images)\n",
    "            loss = loss_function(outputs, labels)\n",
    "\n",
    "            # Backward pass y optimización\n",
    "            loss.backward()\n",
    "            optimizer.step()\n",
    "\n",
    "            running_loss += loss.item()\n",
    "\n",
    "            # Print loss every 250 batches\n",
    "            if (i + 1) % 250 == 0:\n",
    "                print(f'Epoch [{epoch + 1}/{num_epochs}], Step [{i + 1}/{len(train_loader)}], Loss: {loss.item():.4f}')\n",
    "\n",
    "        epoch_loss = running_loss / len(train_loader)\n",
    "        training_losses.append(epoch_loss)\n",
    "        print(f'Epoch [{epoch + 1}/{num_epochs}], Loss: {epoch_loss:.4f}')\n",
    "\n",
    "    return training_losses\n",
    "\n",
    "# Calling the training function\n",
    "num_epochs = 5\n",
    "learning_rate = 0.000005\n",
    "training_losses = train_model(num_epochs, learning_rate)"
   ]
  },
  {
   "cell_type": "markdown",
   "metadata": {},
   "source": [
    "Plot the training loss (and validation loss/accuracy, if recorded)."
   ]
  },
  {
   "cell_type": "code",
   "execution_count": 63,
   "metadata": {},
   "outputs": [
    {
     "data": {
      "image/png": "[encoded data removed]",
      "text/plain": [
       "<Figure size 640x480 with 1 Axes>"
      ]
     },
     "metadata": {},
     "output_type": "display_data"
    }
   ],
   "source": [
    "## YOUR CODE HERE ##\n",
    "\n",
    "## Plot the training loss (and validation loss/accuracy, if recorded).\n",
    "plt.plot(training_losses, label='Training loss')\n",
    "plt.xlabel('Epoch')\n",
    "plt.ylabel('Loss')\n",
    "plt.legend()\n",
    "plt.show()\n"
   ]
  },
  {
   "cell_type": "markdown",
   "metadata": {},
   "source": [
    "## Testing your model\n",
    "Using the previously created `DataLoader` for the test set, compute the percentage of correct predictions using the highest probability prediction. \n",
    "\n",
    "If your accuracy is over 90%, great work, but see if you can push a bit further! \n",
    "If your accuracy is under 90%, you'll need to make improvements.\n",
    "Go back and check your model architecture, loss function, and optimizer to make sure they're appropriate for an image classification task."
   ]
  },
  {
   "cell_type": "code",
   "execution_count": 64,
   "metadata": {},
   "outputs": [
    {
     "name": "stdout",
     "output_type": "stream",
     "text": [
      "Accuracy of the model on the test set: 88.78%\n",
      "Your model accuracy is still under 90%. Keep experimenting with different hyperparameters and architectures.\n"
     ]
    }
   ],
   "source": [
    "def evaluate_model(model, test_loader, device):\n",
    "    model.eval()\n",
    "    correct = 0\n",
    "    total = 0\n",
    "\n",
    "    with torch.no_grad():\n",
    "        for images, labels in test_loader:\n",
    "            images, labels = images.to(device), labels.to(device)\n",
    "            outputs = model(images)\n",
    "            _, predicted = torch.max(outputs.data, 1)\n",
    "            total += labels.size(0)\n",
    "            correct += (predicted == labels).sum().item()\n",
    "\n",
    "    accuracy = 100 * correct / total\n",
    "    print(f'Accuracy of the model on the test set: {accuracy:.2f}%')\n",
    "\n",
    "    if accuracy >= 90:\n",
    "        print('Great work! Your model has achieved at least 90% accuracy on the test set.')\n",
    "    else:\n",
    "        print('Your model accuracy is still under 90%. Keep experimenting with different hyperparameters and architectures.')\n",
    "\n",
    "# Evaluate the model on the test set\n",
    "evaluate_model(model, test_loader, device)"
   ]
  },
  {
   "cell_type": "markdown",
   "metadata": {},
   "source": [
    "## Improving your model\n",
    "\n",
    "Once your model is done training, try tweaking your hyperparameters and training again below to improve your accuracy on the test set!"
   ]
  },
  {
   "cell_type": "code",
   "execution_count": 65,
   "metadata": {},
   "outputs": [
    {
     "name": "stdout",
     "output_type": "stream",
     "text": [
      "Epoch [1/20], Step [250/938], Loss: 0.4087\n",
      "Epoch [1/20], Step [500/938], Loss: 0.3191\n",
      "Epoch [1/20], Step [750/938], Loss: 0.2425\n",
      "Epoch [1/20], Loss: 0.3030\n",
      "Epoch [2/20], Step [250/938], Loss: 0.3543\n",
      "Epoch [2/20], Step [500/938], Loss: 0.1973\n",
      "Epoch [2/20], Step [750/938], Loss: 0.2831\n",
      "Epoch [2/20], Loss: 0.1374\n",
      "Epoch [3/20], Step [250/938], Loss: 0.1761\n",
      "Epoch [3/20], Step [500/938], Loss: 0.1186\n",
      "Epoch [3/20], Step [750/938], Loss: 0.0565\n",
      "Epoch [3/20], Loss: 0.1011\n",
      "Epoch [4/20], Step [250/938], Loss: 0.0629\n",
      "Epoch [4/20], Step [500/938], Loss: 0.0174\n",
      "Epoch [4/20], Step [750/938], Loss: 0.0641\n",
      "Epoch [4/20], Loss: 0.0819\n",
      "Epoch [5/20], Step [250/938], Loss: 0.0075\n",
      "Epoch [5/20], Step [500/938], Loss: 0.1265\n",
      "Epoch [5/20], Step [750/938], Loss: 0.3382\n",
      "Epoch [5/20], Loss: 0.0718\n",
      "Epoch [6/20], Step [250/938], Loss: 0.0423\n",
      "Epoch [6/20], Step [500/938], Loss: 0.0048\n",
      "Epoch [6/20], Step [750/938], Loss: 0.0095\n",
      "Epoch [6/20], Loss: 0.0592\n",
      "Epoch [7/20], Step [250/938], Loss: 0.0495\n",
      "Epoch [7/20], Step [500/938], Loss: 0.0749\n",
      "Epoch [7/20], Step [750/938], Loss: 0.0360\n",
      "Epoch [7/20], Loss: 0.0507\n",
      "Epoch [8/20], Step [250/938], Loss: 0.0147\n",
      "Epoch [8/20], Step [500/938], Loss: 0.0385\n",
      "Epoch [8/20], Step [750/938], Loss: 0.1414\n",
      "Epoch [8/20], Loss: 0.0487\n",
      "Epoch [9/20], Step [250/938], Loss: 0.0097\n",
      "Epoch [9/20], Step [500/938], Loss: 0.0103\n",
      "Epoch [9/20], Step [750/938], Loss: 0.0410\n",
      "Epoch [9/20], Loss: 0.0429\n",
      "Epoch [10/20], Step [250/938], Loss: 0.0107\n",
      "Epoch [10/20], Step [500/938], Loss: 0.0039\n",
      "Epoch [10/20], Step [750/938], Loss: 0.0283\n",
      "Epoch [10/20], Loss: 0.0383\n",
      "Epoch [11/20], Step [250/938], Loss: 0.0223\n",
      "Epoch [11/20], Step [500/938], Loss: 0.0684\n",
      "Epoch [11/20], Step [750/938], Loss: 0.0026\n",
      "Epoch [11/20], Loss: 0.0341\n",
      "Epoch [12/20], Step [250/938], Loss: 0.0279\n",
      "Epoch [12/20], Step [500/938], Loss: 0.0037\n",
      "Epoch [12/20], Step [750/938], Loss: 0.0258\n",
      "Epoch [12/20], Loss: 0.0365\n",
      "Epoch [13/20], Step [250/938], Loss: 0.0013\n",
      "Epoch [13/20], Step [500/938], Loss: 0.0265\n",
      "Epoch [13/20], Step [750/938], Loss: 0.0083\n",
      "Epoch [13/20], Loss: 0.0295\n",
      "Epoch [14/20], Step [250/938], Loss: 0.0207\n",
      "Epoch [14/20], Step [500/938], Loss: 0.0033\n",
      "Epoch [14/20], Step [750/938], Loss: 0.0072\n",
      "Epoch [14/20], Loss: 0.0327\n",
      "Epoch [15/20], Step [250/938], Loss: 0.0069\n",
      "Epoch [15/20], Step [500/938], Loss: 0.0060\n",
      "Epoch [15/20], Step [750/938], Loss: 0.0279\n",
      "Epoch [15/20], Loss: 0.0270\n",
      "Epoch [16/20], Step [250/938], Loss: 0.0020\n",
      "Epoch [16/20], Step [500/938], Loss: 0.0023\n",
      "Epoch [16/20], Step [750/938], Loss: 0.0027\n",
      "Epoch [16/20], Loss: 0.0249\n",
      "Epoch [17/20], Step [250/938], Loss: 0.0080\n",
      "Epoch [17/20], Step [500/938], Loss: 0.0339\n",
      "Epoch [17/20], Step [750/938], Loss: 0.0042\n",
      "Epoch [17/20], Loss: 0.0299\n",
      "Epoch [18/20], Step [250/938], Loss: 0.0080\n",
      "Epoch [18/20], Step [500/938], Loss: 0.0020\n",
      "Epoch [18/20], Step [750/938], Loss: 0.0824\n",
      "Epoch [18/20], Loss: 0.0210\n",
      "Epoch [19/20], Step [250/938], Loss: 0.0702\n",
      "Epoch [19/20], Step [500/938], Loss: 0.0001\n",
      "Epoch [19/20], Step [750/938], Loss: 0.0039\n",
      "Epoch [19/20], Loss: 0.0223\n",
      "Epoch [20/20], Step [250/938], Loss: 0.0000\n",
      "Epoch [20/20], Step [500/938], Loss: 0.0735\n",
      "Epoch [20/20], Step [750/938], Loss: 0.0004\n",
      "Epoch [20/20], Loss: 0.0220\n"
     ]
    },
    {
     "data": {
      "image/png": "[encoded data removed]",
      "text/plain": [
       "<Figure size 640x480 with 1 Axes>"
      ]
     },
     "metadata": {},
     "output_type": "display_data"
    },
    {
     "name": "stdout",
     "output_type": "stream",
     "text": [
      "Accuracy of the model on the test set: 97.48%\n",
      "Great work! Your model has achieved at least 90% accuracy on the test set.\n"
     ]
    }
   ],
   "source": [
    "## YOUR CODE HERE ##\n",
    "\n",
    "## Improving your model\n",
    "\n",
    "# Hyperparameter settings\n",
    "learning_rate = 0.001\n",
    "num_epochs = 20\n",
    "\n",
    "# Call the training function with the new hyperparameters\n",
    "model = Net().to(device)\n",
    "training_losses = train_model(num_epochs, learning_rate)\n",
    "\n",
    "# Graphing training loss\n",
    "plt.plot(training_losses, label='Training loss')\n",
    "plt.xlabel('Epoch')\n",
    "plt.ylabel('Loss')\n",
    "plt.legend()\n",
    "plt.show()\n",
    "\n",
    "evaluate_model(model, test_loader, device)"
   ]
  },
  {
   "cell_type": "markdown",
   "metadata": {},
   "source": [
    "## Saving your model\n",
    "Using `torch.save`, save your model for future loading."
   ]
  },
  {
   "cell_type": "code",
   "execution_count": 66,
   "metadata": {},
   "outputs": [
    {
     "name": "stdout",
     "output_type": "stream",
     "text": [
      "Model saved to mnist_model.pth\n"
     ]
    }
   ],
   "source": [
    "## YOUR CODE HERE ##\n",
    "\n",
    "def save_model(model, path):\n",
    "    torch.save(model.state_dict(), path)\n",
    "    print(f'Model saved to {path}')\n",
    "\n",
    "model_path = 'mnist_model.pth'\n",
    "save_model(model, model_path)\n"
   ]
  }
 ],
 "metadata": {
  "kernelspec": {
   "display_name": "Python 3",
   "language": "python",
   "name": "python3"
  },
  "language_info": {
   "codemirror_mode": {
    "name": "ipython",
    "version": 3
   },
   "file_extension": ".py",
   "mimetype": "text/x-python",
   "name": "python",
   "nbconvert_exporter": "python",
   "pygments_lexer": "ipython3",
   "version": "3.8.19"
  }
 },
 "nbformat": 4,
 "nbformat_minor": 4
}
